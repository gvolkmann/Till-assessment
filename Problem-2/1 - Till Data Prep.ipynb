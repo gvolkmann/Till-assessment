{
 "cells": [
  {
   "cell_type": "code",
   "execution_count": 1,
   "metadata": {},
   "outputs": [],
   "source": [
    "import pandas as pd\n",
    "import os\n",
    "from datetime import datetime, date \n",
    "import numpy as np\n",
    "import seaborn as sns\n",
    "import matplotlib.pyplot as plt"
   ]
  },
  {
   "cell_type": "code",
   "execution_count": 2,
   "metadata": {},
   "outputs": [],
   "source": [
    "path = '/Users/gwynethvolkmann/Desktop/datascience'\n",
    "os.chdir(path)"
   ]
  },
  {
   "cell_type": "code",
   "execution_count": 3,
   "metadata": {},
   "outputs": [
    {
     "data": {
      "text/html": [
       "<div>\n",
       "<style scoped>\n",
       "    .dataframe tbody tr th:only-of-type {\n",
       "        vertical-align: middle;\n",
       "    }\n",
       "\n",
       "    .dataframe tbody tr th {\n",
       "        vertical-align: top;\n",
       "    }\n",
       "\n",
       "    .dataframe thead th {\n",
       "        text-align: right;\n",
       "    }\n",
       "</style>\n",
       "<table border=\"1\" class=\"dataframe\">\n",
       "  <thead>\n",
       "    <tr style=\"text-align: right;\">\n",
       "      <th></th>\n",
       "      <th>carid</th>\n",
       "      <th>vehicle</th>\n",
       "      <th>year</th>\n",
       "      <th>msrp</th>\n",
       "      <th>accelrate</th>\n",
       "      <th>mpg</th>\n",
       "      <th>mpgmpge</th>\n",
       "      <th>carclass</th>\n",
       "      <th>carclass_id</th>\n",
       "    </tr>\n",
       "  </thead>\n",
       "  <tbody>\n",
       "    <tr>\n",
       "      <th>0</th>\n",
       "      <td>1</td>\n",
       "      <td>Prius (1st Gen)</td>\n",
       "      <td>1997</td>\n",
       "      <td>24509.74</td>\n",
       "      <td>7.46</td>\n",
       "      <td>41.26</td>\n",
       "      <td>41.26</td>\n",
       "      <td>C</td>\n",
       "      <td>1</td>\n",
       "    </tr>\n",
       "    <tr>\n",
       "      <th>1</th>\n",
       "      <td>2</td>\n",
       "      <td>Tino</td>\n",
       "      <td>2000</td>\n",
       "      <td>35354.97</td>\n",
       "      <td>8.20</td>\n",
       "      <td>54.10</td>\n",
       "      <td>54.10</td>\n",
       "      <td>C</td>\n",
       "      <td>1</td>\n",
       "    </tr>\n",
       "    <tr>\n",
       "      <th>2</th>\n",
       "      <td>3</td>\n",
       "      <td>Prius (2nd Gen)</td>\n",
       "      <td>2000</td>\n",
       "      <td>26832.25</td>\n",
       "      <td>7.97</td>\n",
       "      <td>45.23</td>\n",
       "      <td>45.23</td>\n",
       "      <td>C</td>\n",
       "      <td>1</td>\n",
       "    </tr>\n",
       "    <tr>\n",
       "      <th>3</th>\n",
       "      <td>4</td>\n",
       "      <td>Insight</td>\n",
       "      <td>2000</td>\n",
       "      <td>18936.41</td>\n",
       "      <td>9.52</td>\n",
       "      <td>53.00</td>\n",
       "      <td>53.00</td>\n",
       "      <td>TS</td>\n",
       "      <td>7</td>\n",
       "    </tr>\n",
       "    <tr>\n",
       "      <th>4</th>\n",
       "      <td>5</td>\n",
       "      <td>Civic (1st Gen)</td>\n",
       "      <td>2001</td>\n",
       "      <td>25833.38</td>\n",
       "      <td>7.04</td>\n",
       "      <td>47.04</td>\n",
       "      <td>47.04</td>\n",
       "      <td>C</td>\n",
       "      <td>1</td>\n",
       "    </tr>\n",
       "  </tbody>\n",
       "</table>\n",
       "</div>"
      ],
      "text/plain": [
       "   carid          vehicle  year      msrp  accelrate    mpg  mpgmpge carclass  \\\n",
       "0      1  Prius (1st Gen)  1997  24509.74       7.46  41.26    41.26        C   \n",
       "1      2             Tino  2000  35354.97       8.20  54.10    54.10        C   \n",
       "2      3  Prius (2nd Gen)  2000  26832.25       7.97  45.23    45.23        C   \n",
       "3      4          Insight  2000  18936.41       9.52  53.00    53.00       TS   \n",
       "4      5  Civic (1st Gen)  2001  25833.38       7.04  47.04    47.04        C   \n",
       "\n",
       "   carclass_id  \n",
       "0            1  \n",
       "1            1  \n",
       "2            1  \n",
       "3            7  \n",
       "4            1  "
      ]
     },
     "execution_count": 3,
     "metadata": {},
     "output_type": "execute_result"
    }
   ],
   "source": [
    "df = pd.read_csv('hybrid_vehicle_price_data.csv')\n",
    "df.head()"
   ]
  },
  {
   "cell_type": "code",
   "execution_count": 4,
   "metadata": {},
   "outputs": [
    {
     "name": "stdout",
     "output_type": "stream",
     "text": [
      "<class 'pandas.core.frame.DataFrame'>\n",
      "RangeIndex: 153 entries, 0 to 152\n",
      "Data columns (total 9 columns):\n",
      " #   Column       Non-Null Count  Dtype  \n",
      "---  ------       --------------  -----  \n",
      " 0   carid        153 non-null    int64  \n",
      " 1   vehicle      153 non-null    object \n",
      " 2   year         153 non-null    int64  \n",
      " 3   msrp         153 non-null    float64\n",
      " 4   accelrate    153 non-null    float64\n",
      " 5   mpg          153 non-null    float64\n",
      " 6   mpgmpge      153 non-null    float64\n",
      " 7   carclass     153 non-null    object \n",
      " 8   carclass_id  153 non-null    int64  \n",
      "dtypes: float64(4), int64(3), object(2)\n",
      "memory usage: 10.9+ KB\n"
     ]
    }
   ],
   "source": [
    "df.info()"
   ]
  },
  {
   "cell_type": "code",
   "execution_count": 5,
   "metadata": {},
   "outputs": [
    {
     "data": {
      "text/html": [
       "<div>\n",
       "<style scoped>\n",
       "    .dataframe tbody tr th:only-of-type {\n",
       "        vertical-align: middle;\n",
       "    }\n",
       "\n",
       "    .dataframe tbody tr th {\n",
       "        vertical-align: top;\n",
       "    }\n",
       "\n",
       "    .dataframe thead th {\n",
       "        text-align: right;\n",
       "    }\n",
       "</style>\n",
       "<table border=\"1\" class=\"dataframe\">\n",
       "  <thead>\n",
       "    <tr style=\"text-align: right;\">\n",
       "      <th></th>\n",
       "      <th>carid</th>\n",
       "      <th>year</th>\n",
       "      <th>msrp</th>\n",
       "      <th>accelrate</th>\n",
       "      <th>mpg</th>\n",
       "      <th>mpgmpge</th>\n",
       "      <th>carclass_id</th>\n",
       "    </tr>\n",
       "  </thead>\n",
       "  <tbody>\n",
       "    <tr>\n",
       "      <th>count</th>\n",
       "      <td>153.000000</td>\n",
       "      <td>153.000000</td>\n",
       "      <td>153.000000</td>\n",
       "      <td>153.000000</td>\n",
       "      <td>153.000000</td>\n",
       "      <td>153.000000</td>\n",
       "      <td>153.000000</td>\n",
       "    </tr>\n",
       "    <tr>\n",
       "      <th>mean</th>\n",
       "      <td>77.117647</td>\n",
       "      <td>2009.718954</td>\n",
       "      <td>39319.434706</td>\n",
       "      <td>11.958497</td>\n",
       "      <td>34.797451</td>\n",
       "      <td>38.453268</td>\n",
       "      <td>3.607843</td>\n",
       "    </tr>\n",
       "    <tr>\n",
       "      <th>std</th>\n",
       "      <td>44.492599</td>\n",
       "      <td>3.459270</td>\n",
       "      <td>21421.126089</td>\n",
       "      <td>2.940225</td>\n",
       "      <td>10.972522</td>\n",
       "      <td>18.363146</td>\n",
       "      <td>1.964271</td>\n",
       "    </tr>\n",
       "    <tr>\n",
       "      <th>min</th>\n",
       "      <td>1.000000</td>\n",
       "      <td>1997.000000</td>\n",
       "      <td>11849.430000</td>\n",
       "      <td>6.290000</td>\n",
       "      <td>17.000000</td>\n",
       "      <td>17.000000</td>\n",
       "      <td>1.000000</td>\n",
       "    </tr>\n",
       "    <tr>\n",
       "      <th>25%</th>\n",
       "      <td>39.000000</td>\n",
       "      <td>2008.000000</td>\n",
       "      <td>24995.000000</td>\n",
       "      <td>9.520000</td>\n",
       "      <td>26.000000</td>\n",
       "      <td>26.000000</td>\n",
       "      <td>2.000000</td>\n",
       "    </tr>\n",
       "    <tr>\n",
       "      <th>50%</th>\n",
       "      <td>77.000000</td>\n",
       "      <td>2011.000000</td>\n",
       "      <td>31950.000000</td>\n",
       "      <td>11.630000</td>\n",
       "      <td>33.000000</td>\n",
       "      <td>33.640000</td>\n",
       "      <td>3.000000</td>\n",
       "    </tr>\n",
       "    <tr>\n",
       "      <th>75%</th>\n",
       "      <td>115.000000</td>\n",
       "      <td>2013.000000</td>\n",
       "      <td>49650.000000</td>\n",
       "      <td>13.470000</td>\n",
       "      <td>41.260000</td>\n",
       "      <td>43.000000</td>\n",
       "      <td>6.000000</td>\n",
       "    </tr>\n",
       "    <tr>\n",
       "      <th>max</th>\n",
       "      <td>154.000000</td>\n",
       "      <td>2013.000000</td>\n",
       "      <td>118543.600000</td>\n",
       "      <td>20.410000</td>\n",
       "      <td>72.920000</td>\n",
       "      <td>100.000000</td>\n",
       "      <td>7.000000</td>\n",
       "    </tr>\n",
       "  </tbody>\n",
       "</table>\n",
       "</div>"
      ],
      "text/plain": [
       "            carid         year           msrp   accelrate         mpg  \\\n",
       "count  153.000000   153.000000     153.000000  153.000000  153.000000   \n",
       "mean    77.117647  2009.718954   39319.434706   11.958497   34.797451   \n",
       "std     44.492599     3.459270   21421.126089    2.940225   10.972522   \n",
       "min      1.000000  1997.000000   11849.430000    6.290000   17.000000   \n",
       "25%     39.000000  2008.000000   24995.000000    9.520000   26.000000   \n",
       "50%     77.000000  2011.000000   31950.000000   11.630000   33.000000   \n",
       "75%    115.000000  2013.000000   49650.000000   13.470000   41.260000   \n",
       "max    154.000000  2013.000000  118543.600000   20.410000   72.920000   \n",
       "\n",
       "          mpgmpge  carclass_id  \n",
       "count  153.000000   153.000000  \n",
       "mean    38.453268     3.607843  \n",
       "std     18.363146     1.964271  \n",
       "min     17.000000     1.000000  \n",
       "25%     26.000000     2.000000  \n",
       "50%     33.640000     3.000000  \n",
       "75%     43.000000     6.000000  \n",
       "max    100.000000     7.000000  "
      ]
     },
     "execution_count": 5,
     "metadata": {},
     "output_type": "execute_result"
    }
   ],
   "source": [
    "df.describe()"
   ]
  },
  {
   "cell_type": "code",
   "execution_count": 6,
   "metadata": {},
   "outputs": [
    {
     "data": {
      "text/html": [
       "<div>\n",
       "<style scoped>\n",
       "    .dataframe tbody tr th:only-of-type {\n",
       "        vertical-align: middle;\n",
       "    }\n",
       "\n",
       "    .dataframe tbody tr th {\n",
       "        vertical-align: top;\n",
       "    }\n",
       "\n",
       "    .dataframe thead th {\n",
       "        text-align: right;\n",
       "    }\n",
       "</style>\n",
       "<table border=\"1\" class=\"dataframe\">\n",
       "  <thead>\n",
       "    <tr style=\"text-align: right;\">\n",
       "      <th></th>\n",
       "      <th>vehicle</th>\n",
       "      <th>year</th>\n",
       "      <th>msrp</th>\n",
       "      <th>accelrate</th>\n",
       "      <th>mpg</th>\n",
       "      <th>mpgmpge</th>\n",
       "      <th>carclass</th>\n",
       "      <th>carclass_id</th>\n",
       "    </tr>\n",
       "    <tr>\n",
       "      <th>carid</th>\n",
       "      <th></th>\n",
       "      <th></th>\n",
       "      <th></th>\n",
       "      <th></th>\n",
       "      <th></th>\n",
       "      <th></th>\n",
       "      <th></th>\n",
       "      <th></th>\n",
       "    </tr>\n",
       "  </thead>\n",
       "  <tbody>\n",
       "    <tr>\n",
       "      <th>1</th>\n",
       "      <td>Prius (1st Gen)</td>\n",
       "      <td>1997</td>\n",
       "      <td>24509.74</td>\n",
       "      <td>7.46</td>\n",
       "      <td>41.26</td>\n",
       "      <td>41.26</td>\n",
       "      <td>C</td>\n",
       "      <td>1</td>\n",
       "    </tr>\n",
       "    <tr>\n",
       "      <th>2</th>\n",
       "      <td>Tino</td>\n",
       "      <td>2000</td>\n",
       "      <td>35354.97</td>\n",
       "      <td>8.20</td>\n",
       "      <td>54.10</td>\n",
       "      <td>54.10</td>\n",
       "      <td>C</td>\n",
       "      <td>1</td>\n",
       "    </tr>\n",
       "    <tr>\n",
       "      <th>3</th>\n",
       "      <td>Prius (2nd Gen)</td>\n",
       "      <td>2000</td>\n",
       "      <td>26832.25</td>\n",
       "      <td>7.97</td>\n",
       "      <td>45.23</td>\n",
       "      <td>45.23</td>\n",
       "      <td>C</td>\n",
       "      <td>1</td>\n",
       "    </tr>\n",
       "    <tr>\n",
       "      <th>4</th>\n",
       "      <td>Insight</td>\n",
       "      <td>2000</td>\n",
       "      <td>18936.41</td>\n",
       "      <td>9.52</td>\n",
       "      <td>53.00</td>\n",
       "      <td>53.00</td>\n",
       "      <td>TS</td>\n",
       "      <td>7</td>\n",
       "    </tr>\n",
       "    <tr>\n",
       "      <th>5</th>\n",
       "      <td>Civic (1st Gen)</td>\n",
       "      <td>2001</td>\n",
       "      <td>25833.38</td>\n",
       "      <td>7.04</td>\n",
       "      <td>47.04</td>\n",
       "      <td>47.04</td>\n",
       "      <td>C</td>\n",
       "      <td>1</td>\n",
       "    </tr>\n",
       "  </tbody>\n",
       "</table>\n",
       "</div>"
      ],
      "text/plain": [
       "               vehicle  year      msrp  accelrate    mpg  mpgmpge carclass  \\\n",
       "carid                                                                        \n",
       "1      Prius (1st Gen)  1997  24509.74       7.46  41.26    41.26        C   \n",
       "2                 Tino  2000  35354.97       8.20  54.10    54.10        C   \n",
       "3      Prius (2nd Gen)  2000  26832.25       7.97  45.23    45.23        C   \n",
       "4              Insight  2000  18936.41       9.52  53.00    53.00       TS   \n",
       "5      Civic (1st Gen)  2001  25833.38       7.04  47.04    47.04        C   \n",
       "\n",
       "       carclass_id  \n",
       "carid               \n",
       "1                1  \n",
       "2                1  \n",
       "3                1  \n",
       "4                7  \n",
       "5                1  "
      ]
     },
     "execution_count": 6,
     "metadata": {},
     "output_type": "execute_result"
    }
   ],
   "source": [
    "df = df.set_index('carid')\n",
    "df.head()"
   ]
  },
  {
   "cell_type": "code",
   "execution_count": 7,
   "metadata": {},
   "outputs": [
    {
     "data": {
      "text/plain": [
       "Insight             10\n",
       "Silverado 15 2WD     5\n",
       "ActiveHybrid 5       3\n",
       "MKZ FWD              3\n",
       "Sonata               3\n",
       "                    ..\n",
       "Auris HSD            1\n",
       "Optima EX            1\n",
       "Escalade 2WD         1\n",
       "Camry LXLE           1\n",
       "C-Max FWD            1\n",
       "Name: vehicle, Length: 109, dtype: int64"
      ]
     },
     "execution_count": 7,
     "metadata": {},
     "output_type": "execute_result"
    }
   ],
   "source": [
    "df['vehicle'].value_counts()"
   ]
  },
  {
   "cell_type": "code",
   "execution_count": 8,
   "metadata": {},
   "outputs": [
    {
     "data": {
      "text/plain": [
       "array(['Prius (1st Gen)', 'Tino', 'Prius (2nd Gen)', 'Insight',\n",
       "       'Civic (1st Gen)', 'Alphard', 'Civic', 'Escape', 'Prius',\n",
       "       'Silverado 15 2WD', 'Lexus RX400h', 'Civic (2nd Gen)',\n",
       "       'Highlander', 'Escape 2WD', 'Accord', 'Mercury Mariner', 'Camry',\n",
       "       'Lexus GS450h', 'Estima', 'Altima', 'Chevrolet Tahoe', 'Kluger',\n",
       "       'Lexus LS600h/hL', 'Tribute', 'GMC Yukon', 'Aura', 'Vue', 'Crown',\n",
       "       'Cadillac Escalade', 'F3DM', 'A5 BSG', 'Lexus RX450h',\n",
       "       'ML450 Blue HV', 'Prius (3rd Gen)', 'S400 Long', 'Mercury Milan',\n",
       "       'Lexus HS250h', 'Avante/Elantra LPI', 'ActiveHybrid X6', 'SAI',\n",
       "       'Malibu', 'Aspen HEV', 'Durango', 'Auris HSD', 'CR-Z', 'F3DM PHEV',\n",
       "       'Touareg', 'Audi Q5', 'Jeep Patriot', 'Besturn B50  ',\n",
       "       'ActiveHybrid 7', 'Lincoln MKZ', 'Fit/Jazz', 'Sonata', 'Cayenne S',\n",
       "       'Fuga Infiniti M35H', 'Chevrolet Volt', 'Tribute 4WD',\n",
       "       'Fusion FWD', 'HS 250h', 'Mariner FWD', 'RX 450h', 'ML450 4natic',\n",
       "       'S400', 'Aqua', 'Lexus CT200h', 'Civic (3rd Gen)',\n",
       "       'Prius alpha (V)', '3008', 'Fit Shuttle', 'Buick Regal', 'Prius V',\n",
       "       'Freed/Freed Spike', 'Optima K5', 'Escape FWD', 'MKZ FWD',\n",
       "       'Tribute 2WD', 'ActiveHybrid 7i', 'Prius C', 'Prius PHV', 'Ampera',\n",
       "       'ActiveHybrid 5', 'Camry LE', 'M35h', 'LaCrosse', 'Panamera S',\n",
       "       'Yukon 1500', 'Jetta', 'C-Max FWD', 'Camry LXLE', 'Optima',\n",
       "       'Sonata Limited', 'Optima EX', 'Regal', 'Highlander 4WD', 'Q5',\n",
       "       'Escalade 2WD', 'Tahoe 2WD', 'CT 200h', 'ES 300h', 'ILX',\n",
       "       'ActiveHybrid 3', 'Sierra 15 2WD', 'GS 450h', 'E400',\n",
       "       'ActiveHybrid 7L', 'Prius Plug-in', 'C-Max Energi Plug-in',\n",
       "       'Fusion Energi Plug-in'], dtype=object)"
      ]
     },
     "execution_count": 8,
     "metadata": {},
     "output_type": "execute_result"
    }
   ],
   "source": [
    "df['vehicle'].unique()"
   ]
  },
  {
   "cell_type": "code",
   "execution_count": 9,
   "metadata": {},
   "outputs": [
    {
     "data": {
      "text/plain": [
       "2013    43\n",
       "2010    23\n",
       "2011    20\n",
       "2012    14\n",
       "2009    14\n",
       "2007     8\n",
       "2005     8\n",
       "2006     5\n",
       "2008     4\n",
       "2004     4\n",
       "2003     3\n",
       "2000     3\n",
       "2001     2\n",
       "2002     1\n",
       "1997     1\n",
       "Name: year, dtype: int64"
      ]
     },
     "execution_count": 9,
     "metadata": {},
     "output_type": "execute_result"
    }
   ],
   "source": [
    "df['year'].value_counts()"
   ]
  },
  {
   "cell_type": "code",
   "execution_count": 10,
   "metadata": {},
   "outputs": [
    {
     "data": {
      "text/plain": [
       "array([[<AxesSubplot:title={'center':'year'}>,\n",
       "        <AxesSubplot:title={'center':'msrp'}>],\n",
       "       [<AxesSubplot:title={'center':'accelrate'}>,\n",
       "        <AxesSubplot:title={'center':'mpg'}>],\n",
       "       [<AxesSubplot:title={'center':'mpgmpge'}>,\n",
       "        <AxesSubplot:title={'center':'carclass_id'}>]], dtype=object)"
      ]
     },
     "execution_count": 10,
     "metadata": {},
     "output_type": "execute_result"
    },
    {
     "data": {
      "image/png": "[encoded data removed]",
      "text/plain": [
       "<Figure size 1440x1440 with 6 Axes>"
      ]
     },
     "metadata": {
      "needs_background": "light"
     },
     "output_type": "display_data"
    }
   ],
   "source": [
    "df.hist(bins=25, figsize=(20,20))"
   ]
  },
  {
   "cell_type": "code",
   "execution_count": 11,
   "metadata": {},
   "outputs": [
    {
     "data": {
      "text/plain": [
       "<AxesSubplot:>"
      ]
     },
     "execution_count": 11,
     "metadata": {},
     "output_type": "execute_result"
    },
    {
     "data": {
      "image/png": "[encoded data removed]",
      "text/plain": [
       "<Figure size 1080x1080 with 1 Axes>"
      ]
     },
     "metadata": {
      "needs_background": "light"
     },
     "output_type": "display_data"
    }
   ],
   "source": [
    "df.boxplot(figsize=(15, 15))"
   ]
  },
  {
   "cell_type": "code",
   "execution_count": 12,
   "metadata": {},
   "outputs": [
    {
     "data": {
      "image/png": "[encoded data removed]",
      "text/plain": [
       "<Figure size 864x1080 with 1 Axes>"
      ]
     },
     "metadata": {
      "needs_background": "light"
     },
     "output_type": "display_data"
    }
   ],
   "source": [
    "Q1 = df.quantile(0.25)\n",
    "Q3 = df.quantile(0.75)\n",
    "IQR = Q3 - Q1\n",
    "dfno = df[~((df<(Q1 -1.5 *IQR)) | (df > (Q3 +1.5*IQR))).any(axis=1)]\n",
    "dfboxplot = dfno.boxplot(grid=False, vert=False,fontsize=15, figsize=(12,15))"
   ]
  },
  {
   "cell_type": "code",
   "execution_count": 13,
   "metadata": {},
   "outputs": [
    {
     "data": {
      "text/plain": [
       "(153, 8)"
      ]
     },
     "execution_count": 13,
     "metadata": {},
     "output_type": "execute_result"
    }
   ],
   "source": [
    "df.shape"
   ]
  },
  {
   "cell_type": "code",
   "execution_count": 14,
   "metadata": {},
   "outputs": [
    {
     "data": {
      "text/plain": [
       "(127, 8)"
      ]
     },
     "execution_count": 14,
     "metadata": {},
     "output_type": "execute_result"
    }
   ],
   "source": [
    "dfno.shape"
   ]
  },
  {
   "cell_type": "code",
   "execution_count": 15,
   "metadata": {},
   "outputs": [
    {
     "data": {
      "text/html": [
       "<style  type=\"text/css\" >\n",
       "#T_7ef7e6e0_3445_11ec_9a9b_e0accb614744row0_col0,#T_7ef7e6e0_3445_11ec_9a9b_e0accb614744row1_col1,#T_7ef7e6e0_3445_11ec_9a9b_e0accb614744row2_col2,#T_7ef7e6e0_3445_11ec_9a9b_e0accb614744row3_col3,#T_7ef7e6e0_3445_11ec_9a9b_e0accb614744row3_col4,#T_7ef7e6e0_3445_11ec_9a9b_e0accb614744row4_col3,#T_7ef7e6e0_3445_11ec_9a9b_e0accb614744row4_col4,#T_7ef7e6e0_3445_11ec_9a9b_e0accb614744row5_col5{\n",
       "            background-color:  #b40426;\n",
       "            color:  #f1f1f1;\n",
       "        }#T_7ef7e6e0_3445_11ec_9a9b_e0accb614744row0_col1,#T_7ef7e6e0_3445_11ec_9a9b_e0accb614744row1_col5{\n",
       "            background-color:  #dedcdb;\n",
       "            color:  #000000;\n",
       "        }#T_7ef7e6e0_3445_11ec_9a9b_e0accb614744row0_col2{\n",
       "            background-color:  #e8d6cc;\n",
       "            color:  #000000;\n",
       "        }#T_7ef7e6e0_3445_11ec_9a9b_e0accb614744row0_col3{\n",
       "            background-color:  #8fb1fe;\n",
       "            color:  #000000;\n",
       "        }#T_7ef7e6e0_3445_11ec_9a9b_e0accb614744row0_col4{\n",
       "            background-color:  #90b2fe;\n",
       "            color:  #000000;\n",
       "        }#T_7ef7e6e0_3445_11ec_9a9b_e0accb614744row0_col5{\n",
       "            background-color:  #6687ed;\n",
       "            color:  #000000;\n",
       "        }#T_7ef7e6e0_3445_11ec_9a9b_e0accb614744row1_col0{\n",
       "            background-color:  #bcd2f7;\n",
       "            color:  #000000;\n",
       "        }#T_7ef7e6e0_3445_11ec_9a9b_e0accb614744row1_col2{\n",
       "            background-color:  #f59d7e;\n",
       "            color:  #000000;\n",
       "        }#T_7ef7e6e0_3445_11ec_9a9b_e0accb614744row1_col3,#T_7ef7e6e0_3445_11ec_9a9b_e0accb614744row1_col4,#T_7ef7e6e0_3445_11ec_9a9b_e0accb614744row3_col2,#T_7ef7e6e0_3445_11ec_9a9b_e0accb614744row3_col5,#T_7ef7e6e0_3445_11ec_9a9b_e0accb614744row4_col1,#T_7ef7e6e0_3445_11ec_9a9b_e0accb614744row4_col2,#T_7ef7e6e0_3445_11ec_9a9b_e0accb614744row5_col0{\n",
       "            background-color:  #3b4cc0;\n",
       "            color:  #f1f1f1;\n",
       "        }#T_7ef7e6e0_3445_11ec_9a9b_e0accb614744row2_col0{\n",
       "            background-color:  #d6dce4;\n",
       "            color:  #000000;\n",
       "        }#T_7ef7e6e0_3445_11ec_9a9b_e0accb614744row2_col1{\n",
       "            background-color:  #f39577;\n",
       "            color:  #000000;\n",
       "        }#T_7ef7e6e0_3445_11ec_9a9b_e0accb614744row2_col3{\n",
       "            background-color:  #4e68d8;\n",
       "            color:  #000000;\n",
       "        }#T_7ef7e6e0_3445_11ec_9a9b_e0accb614744row2_col4,#T_7ef7e6e0_3445_11ec_9a9b_e0accb614744row5_col4{\n",
       "            background-color:  #506bda;\n",
       "            color:  #000000;\n",
       "        }#T_7ef7e6e0_3445_11ec_9a9b_e0accb614744row2_col5{\n",
       "            background-color:  #c7d7f0;\n",
       "            color:  #000000;\n",
       "        }#T_7ef7e6e0_3445_11ec_9a9b_e0accb614744row3_col0,#T_7ef7e6e0_3445_11ec_9a9b_e0accb614744row4_col0{\n",
       "            background-color:  #536edd;\n",
       "            color:  #000000;\n",
       "        }#T_7ef7e6e0_3445_11ec_9a9b_e0accb614744row3_col1,#T_7ef7e6e0_3445_11ec_9a9b_e0accb614744row4_col5{\n",
       "            background-color:  #3c4ec2;\n",
       "            color:  #f1f1f1;\n",
       "        }#T_7ef7e6e0_3445_11ec_9a9b_e0accb614744row5_col1{\n",
       "            background-color:  #e6d7cf;\n",
       "            color:  #000000;\n",
       "        }#T_7ef7e6e0_3445_11ec_9a9b_e0accb614744row5_col2{\n",
       "            background-color:  #c6d6f1;\n",
       "            color:  #000000;\n",
       "        }#T_7ef7e6e0_3445_11ec_9a9b_e0accb614744row5_col3{\n",
       "            background-color:  #4c66d6;\n",
       "            color:  #000000;\n",
       "        }</style><table id=\"T_7ef7e6e0_3445_11ec_9a9b_e0accb614744\" ><thead>    <tr>        <th class=\"blank level0\" ></th>        <th class=\"col_heading level0 col0\" >year</th>        <th class=\"col_heading level0 col1\" >msrp</th>        <th class=\"col_heading level0 col2\" >accelrate</th>        <th class=\"col_heading level0 col3\" >mpg</th>        <th class=\"col_heading level0 col4\" >mpgmpge</th>        <th class=\"col_heading level0 col5\" >carclass_id</th>    </tr></thead><tbody>\n",
       "                <tr>\n",
       "                        <th id=\"T_7ef7e6e0_3445_11ec_9a9b_e0accb614744level0_row0\" class=\"row_heading level0 row0\" >year</th>\n",
       "                        <td id=\"T_7ef7e6e0_3445_11ec_9a9b_e0accb614744row0_col0\" class=\"data row0 col0\" >1.000000</td>\n",
       "                        <td id=\"T_7ef7e6e0_3445_11ec_9a9b_e0accb614744row0_col1\" class=\"data row0 col1\" >0.240000</td>\n",
       "                        <td id=\"T_7ef7e6e0_3445_11ec_9a9b_e0accb614744row0_col2\" class=\"data row0 col2\" >0.350000</td>\n",
       "                        <td id=\"T_7ef7e6e0_3445_11ec_9a9b_e0accb614744row0_col3\" class=\"data row0 col3\" >-0.140000</td>\n",
       "                        <td id=\"T_7ef7e6e0_3445_11ec_9a9b_e0accb614744row0_col4\" class=\"data row0 col4\" >-0.140000</td>\n",
       "                        <td id=\"T_7ef7e6e0_3445_11ec_9a9b_e0accb614744row0_col5\" class=\"data row0 col5\" >-0.240000</td>\n",
       "            </tr>\n",
       "            <tr>\n",
       "                        <th id=\"T_7ef7e6e0_3445_11ec_9a9b_e0accb614744level0_row1\" class=\"row_heading level0 row1\" >msrp</th>\n",
       "                        <td id=\"T_7ef7e6e0_3445_11ec_9a9b_e0accb614744row1_col0\" class=\"data row1 col0\" >0.240000</td>\n",
       "                        <td id=\"T_7ef7e6e0_3445_11ec_9a9b_e0accb614744row1_col1\" class=\"data row1 col1\" >1.000000</td>\n",
       "                        <td id=\"T_7ef7e6e0_3445_11ec_9a9b_e0accb614744row1_col2\" class=\"data row1 col2\" >0.630000</td>\n",
       "                        <td id=\"T_7ef7e6e0_3445_11ec_9a9b_e0accb614744row1_col3\" class=\"data row1 col3\" >-0.530000</td>\n",
       "                        <td id=\"T_7ef7e6e0_3445_11ec_9a9b_e0accb614744row1_col4\" class=\"data row1 col4\" >-0.540000</td>\n",
       "                        <td id=\"T_7ef7e6e0_3445_11ec_9a9b_e0accb614744row1_col5\" class=\"data row1 col5\" >0.290000</td>\n",
       "            </tr>\n",
       "            <tr>\n",
       "                        <th id=\"T_7ef7e6e0_3445_11ec_9a9b_e0accb614744level0_row2\" class=\"row_heading level0 row2\" >accelrate</th>\n",
       "                        <td id=\"T_7ef7e6e0_3445_11ec_9a9b_e0accb614744row2_col0\" class=\"data row2 col0\" >0.350000</td>\n",
       "                        <td id=\"T_7ef7e6e0_3445_11ec_9a9b_e0accb614744row2_col1\" class=\"data row2 col1\" >0.630000</td>\n",
       "                        <td id=\"T_7ef7e6e0_3445_11ec_9a9b_e0accb614744row2_col2\" class=\"data row2 col2\" >1.000000</td>\n",
       "                        <td id=\"T_7ef7e6e0_3445_11ec_9a9b_e0accb614744row2_col3\" class=\"data row2 col3\" >-0.430000</td>\n",
       "                        <td id=\"T_7ef7e6e0_3445_11ec_9a9b_e0accb614744row2_col4\" class=\"data row2 col4\" >-0.430000</td>\n",
       "                        <td id=\"T_7ef7e6e0_3445_11ec_9a9b_e0accb614744row2_col5\" class=\"data row2 col5\" >0.170000</td>\n",
       "            </tr>\n",
       "            <tr>\n",
       "                        <th id=\"T_7ef7e6e0_3445_11ec_9a9b_e0accb614744level0_row3\" class=\"row_heading level0 row3\" >mpg</th>\n",
       "                        <td id=\"T_7ef7e6e0_3445_11ec_9a9b_e0accb614744row3_col0\" class=\"data row3 col0\" >-0.140000</td>\n",
       "                        <td id=\"T_7ef7e6e0_3445_11ec_9a9b_e0accb614744row3_col1\" class=\"data row3 col1\" >-0.530000</td>\n",
       "                        <td id=\"T_7ef7e6e0_3445_11ec_9a9b_e0accb614744row3_col2\" class=\"data row3 col2\" >-0.430000</td>\n",
       "                        <td id=\"T_7ef7e6e0_3445_11ec_9a9b_e0accb614744row3_col3\" class=\"data row3 col3\" >1.000000</td>\n",
       "                        <td id=\"T_7ef7e6e0_3445_11ec_9a9b_e0accb614744row3_col4\" class=\"data row3 col4\" >1.000000</td>\n",
       "                        <td id=\"T_7ef7e6e0_3445_11ec_9a9b_e0accb614744row3_col5\" class=\"data row3 col5\" >-0.440000</td>\n",
       "            </tr>\n",
       "            <tr>\n",
       "                        <th id=\"T_7ef7e6e0_3445_11ec_9a9b_e0accb614744level0_row4\" class=\"row_heading level0 row4\" >mpgmpge</th>\n",
       "                        <td id=\"T_7ef7e6e0_3445_11ec_9a9b_e0accb614744row4_col0\" class=\"data row4 col0\" >-0.140000</td>\n",
       "                        <td id=\"T_7ef7e6e0_3445_11ec_9a9b_e0accb614744row4_col1\" class=\"data row4 col1\" >-0.540000</td>\n",
       "                        <td id=\"T_7ef7e6e0_3445_11ec_9a9b_e0accb614744row4_col2\" class=\"data row4 col2\" >-0.430000</td>\n",
       "                        <td id=\"T_7ef7e6e0_3445_11ec_9a9b_e0accb614744row4_col3\" class=\"data row4 col3\" >1.000000</td>\n",
       "                        <td id=\"T_7ef7e6e0_3445_11ec_9a9b_e0accb614744row4_col4\" class=\"data row4 col4\" >1.000000</td>\n",
       "                        <td id=\"T_7ef7e6e0_3445_11ec_9a9b_e0accb614744row4_col5\" class=\"data row4 col5\" >-0.430000</td>\n",
       "            </tr>\n",
       "            <tr>\n",
       "                        <th id=\"T_7ef7e6e0_3445_11ec_9a9b_e0accb614744level0_row5\" class=\"row_heading level0 row5\" >carclass_id</th>\n",
       "                        <td id=\"T_7ef7e6e0_3445_11ec_9a9b_e0accb614744row5_col0\" class=\"data row5 col0\" >-0.240000</td>\n",
       "                        <td id=\"T_7ef7e6e0_3445_11ec_9a9b_e0accb614744row5_col1\" class=\"data row5 col1\" >0.290000</td>\n",
       "                        <td id=\"T_7ef7e6e0_3445_11ec_9a9b_e0accb614744row5_col2\" class=\"data row5 col2\" >0.170000</td>\n",
       "                        <td id=\"T_7ef7e6e0_3445_11ec_9a9b_e0accb614744row5_col3\" class=\"data row5 col3\" >-0.440000</td>\n",
       "                        <td id=\"T_7ef7e6e0_3445_11ec_9a9b_e0accb614744row5_col4\" class=\"data row5 col4\" >-0.430000</td>\n",
       "                        <td id=\"T_7ef7e6e0_3445_11ec_9a9b_e0accb614744row5_col5\" class=\"data row5 col5\" >1.000000</td>\n",
       "            </tr>\n",
       "    </tbody></table>"
      ],
      "text/plain": [
       "<pandas.io.formats.style.Styler at 0x1a20a3fb10>"
      ]
     },
     "execution_count": 15,
     "metadata": {},
     "output_type": "execute_result"
    }
   ],
   "source": [
    "corr = dfno.corr()\n",
    "corr.round(2).style.background_gradient(cmap='coolwarm')"
   ]
  },
  {
   "cell_type": "code",
   "execution_count": 16,
   "metadata": {},
   "outputs": [
    {
     "data": {
      "text/html": [
       "<div>\n",
       "<style scoped>\n",
       "    .dataframe tbody tr th:only-of-type {\n",
       "        vertical-align: middle;\n",
       "    }\n",
       "\n",
       "    .dataframe tbody tr th {\n",
       "        vertical-align: top;\n",
       "    }\n",
       "\n",
       "    .dataframe thead th {\n",
       "        text-align: right;\n",
       "    }\n",
       "</style>\n",
       "<table border=\"1\" class=\"dataframe\">\n",
       "  <thead>\n",
       "    <tr style=\"text-align: right;\">\n",
       "      <th></th>\n",
       "      <th>vehicle</th>\n",
       "      <th>year</th>\n",
       "      <th>msrp</th>\n",
       "      <th>accelrate</th>\n",
       "      <th>mpg</th>\n",
       "      <th>mpgmpge</th>\n",
       "      <th>carclass</th>\n",
       "      <th>carclass_id</th>\n",
       "    </tr>\n",
       "    <tr>\n",
       "      <th>carid</th>\n",
       "      <th></th>\n",
       "      <th></th>\n",
       "      <th></th>\n",
       "      <th></th>\n",
       "      <th></th>\n",
       "      <th></th>\n",
       "      <th></th>\n",
       "      <th></th>\n",
       "    </tr>\n",
       "  </thead>\n",
       "  <tbody>\n",
       "    <tr>\n",
       "      <th>5</th>\n",
       "      <td>Civic (1st Gen)</td>\n",
       "      <td>2001</td>\n",
       "      <td>25833.38</td>\n",
       "      <td>7.04</td>\n",
       "      <td>47.04</td>\n",
       "      <td>47.04</td>\n",
       "      <td>C</td>\n",
       "      <td>1</td>\n",
       "    </tr>\n",
       "    <tr>\n",
       "      <th>6</th>\n",
       "      <td>Insight</td>\n",
       "      <td>2001</td>\n",
       "      <td>19036.71</td>\n",
       "      <td>9.52</td>\n",
       "      <td>53.00</td>\n",
       "      <td>53.00</td>\n",
       "      <td>TS</td>\n",
       "      <td>7</td>\n",
       "    </tr>\n",
       "    <tr>\n",
       "      <th>7</th>\n",
       "      <td>Insight</td>\n",
       "      <td>2002</td>\n",
       "      <td>19137.01</td>\n",
       "      <td>9.71</td>\n",
       "      <td>53.00</td>\n",
       "      <td>53.00</td>\n",
       "      <td>TS</td>\n",
       "      <td>7</td>\n",
       "    </tr>\n",
       "    <tr>\n",
       "      <th>8</th>\n",
       "      <td>Alphard</td>\n",
       "      <td>2003</td>\n",
       "      <td>38084.77</td>\n",
       "      <td>8.33</td>\n",
       "      <td>40.46</td>\n",
       "      <td>40.46</td>\n",
       "      <td>MV</td>\n",
       "      <td>4</td>\n",
       "    </tr>\n",
       "    <tr>\n",
       "      <th>9</th>\n",
       "      <td>Insight</td>\n",
       "      <td>2003</td>\n",
       "      <td>19137.01</td>\n",
       "      <td>9.52</td>\n",
       "      <td>53.00</td>\n",
       "      <td>53.00</td>\n",
       "      <td>TS</td>\n",
       "      <td>7</td>\n",
       "    </tr>\n",
       "  </tbody>\n",
       "</table>\n",
       "</div>"
      ],
      "text/plain": [
       "               vehicle  year      msrp  accelrate    mpg  mpgmpge carclass  \\\n",
       "carid                                                                        \n",
       "5      Civic (1st Gen)  2001  25833.38       7.04  47.04    47.04        C   \n",
       "6              Insight  2001  19036.71       9.52  53.00    53.00       TS   \n",
       "7              Insight  2002  19137.01       9.71  53.00    53.00       TS   \n",
       "8              Alphard  2003  38084.77       8.33  40.46    40.46       MV   \n",
       "9              Insight  2003  19137.01       9.52  53.00    53.00       TS   \n",
       "\n",
       "       carclass_id  \n",
       "carid               \n",
       "5                1  \n",
       "6                7  \n",
       "7                7  \n",
       "8                4  \n",
       "9                7  "
      ]
     },
     "execution_count": 16,
     "metadata": {},
     "output_type": "execute_result"
    }
   ],
   "source": [
    "dfno.head()"
   ]
  },
  {
   "cell_type": "code",
   "execution_count": 17,
   "metadata": {},
   "outputs": [
    {
     "data": {
      "text/plain": [
       "M      46\n",
       "SUV    38\n",
       "C      24\n",
       "TS      7\n",
       "PT      6\n",
       "MV      4\n",
       "L       2\n",
       "Name: carclass, dtype: int64"
      ]
     },
     "execution_count": 17,
     "metadata": {},
     "output_type": "execute_result"
    }
   ],
   "source": [
    "dfno['carclass'].value_counts()"
   ]
  },
  {
   "cell_type": "code",
   "execution_count": 18,
   "metadata": {},
   "outputs": [
    {
     "data": {
      "image/png": "[encoded data removed]",
      "text/plain": [
       "<Figure size 842.4x595.44 with 1 Axes>"
      ]
     },
     "metadata": {
      "needs_background": "light"
     },
     "output_type": "display_data"
    }
   ],
   "source": [
    "fig, ax = plt.subplots()\n",
    "fig.set_size_inches(11.7, 8.27)\n",
    "ax = sns.boxplot(x=\"vehicle\", y=\"msrp\", ax=ax, data=dfno)"
   ]
  },
  {
   "cell_type": "code",
   "execution_count": 19,
   "metadata": {},
   "outputs": [
    {
     "data": {
      "image/png": "[encoded data removed]",
      "text/plain": [
       "<Figure size 432x288 with 1 Axes>"
      ]
     },
     "metadata": {
      "needs_background": "light"
     },
     "output_type": "display_data"
    }
   ],
   "source": [
    "ax = sns.boxplot(x=\"year\", y=\"msrp\", data=dfno)"
   ]
  },
  {
   "cell_type": "code",
   "execution_count": 20,
   "metadata": {},
   "outputs": [
    {
     "data": {
      "text/plain": [
       "<AxesSubplot:xlabel='accelrate', ylabel='msrp'>"
      ]
     },
     "execution_count": 20,
     "metadata": {},
     "output_type": "execute_result"
    },
    {
     "data": {
      "image/png": "[encoded data removed]",
      "text/plain": [
       "<Figure size 432x288 with 1 Axes>"
      ]
     },
     "metadata": {
      "needs_background": "light"
     },
     "output_type": "display_data"
    }
   ],
   "source": [
    "sns.scatterplot(data=dfno, x=\"accelrate\", y=\"msrp\")"
   ]
  },
  {
   "cell_type": "code",
   "execution_count": 21,
   "metadata": {},
   "outputs": [
    {
     "data": {
      "image/png": "[encoded data removed]",
      "text/plain": [
       "<Figure size 432x288 with 1 Axes>"
      ]
     },
     "metadata": {
      "needs_background": "light"
     },
     "output_type": "display_data"
    }
   ],
   "source": [
    "ax = sns.boxplot(x=\"carclass_id\", y=\"msrp\", data=dfno)"
   ]
  },
  {
   "cell_type": "code",
   "execution_count": 22,
   "metadata": {},
   "outputs": [
    {
     "name": "stderr",
     "output_type": "stream",
     "text": [
      "/opt/anaconda3/lib/python3.7/site-packages/pandas/core/frame.py:4170: SettingWithCopyWarning: \n",
      "A value is trying to be set on a copy of a slice from a DataFrame\n",
      "\n",
      "See the caveats in the documentation: https://pandas.pydata.org/pandas-docs/stable/user_guide/indexing.html#returning-a-view-versus-a-copy\n",
      "  errors=errors,\n"
     ]
    }
   ],
   "source": [
    "dfno.drop(columns=['vehicle','mpgmpge','carclass_id'], inplace=True)"
   ]
  },
  {
   "cell_type": "code",
   "execution_count": 23,
   "metadata": {},
   "outputs": [
    {
     "data": {
      "text/html": [
       "<div>\n",
       "<style scoped>\n",
       "    .dataframe tbody tr th:only-of-type {\n",
       "        vertical-align: middle;\n",
       "    }\n",
       "\n",
       "    .dataframe tbody tr th {\n",
       "        vertical-align: top;\n",
       "    }\n",
       "\n",
       "    .dataframe thead th {\n",
       "        text-align: right;\n",
       "    }\n",
       "</style>\n",
       "<table border=\"1\" class=\"dataframe\">\n",
       "  <thead>\n",
       "    <tr style=\"text-align: right;\">\n",
       "      <th></th>\n",
       "      <th>year</th>\n",
       "      <th>msrp</th>\n",
       "      <th>accelrate</th>\n",
       "      <th>mpg</th>\n",
       "      <th>C</th>\n",
       "      <th>L</th>\n",
       "      <th>M</th>\n",
       "      <th>MV</th>\n",
       "      <th>PT</th>\n",
       "      <th>SUV</th>\n",
       "      <th>TS</th>\n",
       "    </tr>\n",
       "    <tr>\n",
       "      <th>carid</th>\n",
       "      <th></th>\n",
       "      <th></th>\n",
       "      <th></th>\n",
       "      <th></th>\n",
       "      <th></th>\n",
       "      <th></th>\n",
       "      <th></th>\n",
       "      <th></th>\n",
       "      <th></th>\n",
       "      <th></th>\n",
       "      <th></th>\n",
       "    </tr>\n",
       "  </thead>\n",
       "  <tbody>\n",
       "    <tr>\n",
       "      <th>5</th>\n",
       "      <td>2001</td>\n",
       "      <td>25833.38</td>\n",
       "      <td>7.04</td>\n",
       "      <td>47.04</td>\n",
       "      <td>1</td>\n",
       "      <td>0</td>\n",
       "      <td>0</td>\n",
       "      <td>0</td>\n",
       "      <td>0</td>\n",
       "      <td>0</td>\n",
       "      <td>0</td>\n",
       "    </tr>\n",
       "    <tr>\n",
       "      <th>6</th>\n",
       "      <td>2001</td>\n",
       "      <td>19036.71</td>\n",
       "      <td>9.52</td>\n",
       "      <td>53.00</td>\n",
       "      <td>0</td>\n",
       "      <td>0</td>\n",
       "      <td>0</td>\n",
       "      <td>0</td>\n",
       "      <td>0</td>\n",
       "      <td>0</td>\n",
       "      <td>1</td>\n",
       "    </tr>\n",
       "    <tr>\n",
       "      <th>7</th>\n",
       "      <td>2002</td>\n",
       "      <td>19137.01</td>\n",
       "      <td>9.71</td>\n",
       "      <td>53.00</td>\n",
       "      <td>0</td>\n",
       "      <td>0</td>\n",
       "      <td>0</td>\n",
       "      <td>0</td>\n",
       "      <td>0</td>\n",
       "      <td>0</td>\n",
       "      <td>1</td>\n",
       "    </tr>\n",
       "    <tr>\n",
       "      <th>8</th>\n",
       "      <td>2003</td>\n",
       "      <td>38084.77</td>\n",
       "      <td>8.33</td>\n",
       "      <td>40.46</td>\n",
       "      <td>0</td>\n",
       "      <td>0</td>\n",
       "      <td>0</td>\n",
       "      <td>1</td>\n",
       "      <td>0</td>\n",
       "      <td>0</td>\n",
       "      <td>0</td>\n",
       "    </tr>\n",
       "    <tr>\n",
       "      <th>9</th>\n",
       "      <td>2003</td>\n",
       "      <td>19137.01</td>\n",
       "      <td>9.52</td>\n",
       "      <td>53.00</td>\n",
       "      <td>0</td>\n",
       "      <td>0</td>\n",
       "      <td>0</td>\n",
       "      <td>0</td>\n",
       "      <td>0</td>\n",
       "      <td>0</td>\n",
       "      <td>1</td>\n",
       "    </tr>\n",
       "  </tbody>\n",
       "</table>\n",
       "</div>"
      ],
      "text/plain": [
       "       year      msrp  accelrate    mpg  C  L  M  MV  PT  SUV  TS\n",
       "carid                                                            \n",
       "5      2001  25833.38       7.04  47.04  1  0  0   0   0    0   0\n",
       "6      2001  19036.71       9.52  53.00  0  0  0   0   0    0   1\n",
       "7      2002  19137.01       9.71  53.00  0  0  0   0   0    0   1\n",
       "8      2003  38084.77       8.33  40.46  0  0  0   1   0    0   0\n",
       "9      2003  19137.01       9.52  53.00  0  0  0   0   0    0   1"
      ]
     },
     "execution_count": 23,
     "metadata": {},
     "output_type": "execute_result"
    }
   ],
   "source": [
    "carclass_dummy = pd.get_dummies(dfno['carclass'])\n",
    "dfno = pd.concat([dfno,carclass_dummy], axis=1)\n",
    "dfno.drop(['carclass'], axis=1, inplace=True)\n",
    "dfno.head()"
   ]
  },
  {
   "cell_type": "markdown",
   "metadata": {},
   "source": [
    "Since carclass is now represented by the one-hot encoded variable, I decided to drop carclassid, since this variable does not actually indicate weight and since it is numerically represented this has the potential to complicate the results of the model. I am also removing mpgmpge since this variable has a very high correlation with the mpg variable and this will remove any signal in the model that can be attributed to multicollinearity. I am also removing the vehicle variable since there are 109 different types of vehicles for 153 data points, so including this metric might result in overfitting of the data since many data points for the vehicle variable are the only one for that particular type. "
   ]
  },
  {
   "cell_type": "code",
   "execution_count": 24,
   "metadata": {},
   "outputs": [],
   "source": [
    "dfno.to_csv('car_no.csv')"
   ]
  }
 ],
 "metadata": {
  "kernelspec": {
   "display_name": "Python 3",
   "language": "python",
   "name": "python3"
  },
  "language_info": {
   "codemirror_mode": {
    "name": "ipython",
    "version": 3
   },
   "file_extension": ".py",
   "mimetype": "text/x-python",
   "name": "python",
   "nbconvert_exporter": "python",
   "pygments_lexer": "ipython3",
   "version": "3.7.6"
  }
 },
 "nbformat": 4,
 "nbformat_minor": 4
}
