{
 "cells": [
  {
   "cell_type": "markdown",
   "metadata": {},
   "source": [
    "# Problem 1"
   ]
  },
  {
   "cell_type": "markdown",
   "metadata": {},
   "source": [
    "SELECT user_id, rent/income\n",
    "FROM\n",
    "\n",
    "(SELECT user_id, amount\n",
    "FROM income_data\n",
    "WHERE date= MAX(date)\n",
    "GROUP BY user_id) income_dt\n",
    "FULL OUTER JOIN\n",
    "\n",
    "(SELECT user_id, amount\n",
    "FROM rent_data\n",
    "WHERE date = MAX(date)\n",
    "GROUP BY user_id) rent_dt\n",
    "ON (income_dt.user_id = rent_dt.user_id)\n",
    ";\n",
    "\n",
    "WITH income AS\n",
    "(SELECT * \n",
    "FROM \n",
    "(SELECT *, ROW_NUMBER() OVER (PARTITION BY user_id ORDER BY date DESC) rank\n",
    "FROM income_data) WHERE rank=1\n",
    "),\n",
    "rent AS\n",
    "(SELECT * \n",
    "FROM \n",
    "(SELECT *, ROW_NUMBER() OVER (PARTITION BY userid ORDER BY date DESC) rank\n",
    "FROM rent_data WHERE charge_type = 'Rent') WHERE rank=1,\n",
    ")\n",
    "\n",
    "SELECT i.user_id, r.rent / i.income\n",
    "FROM income i\n",
    "JOIN rent r ON\n",
    "i.user_id = r.user_id\n",
    "ORDER BY user_id\n",
    ";"
   ]
  },
  {
   "cell_type": "markdown",
   "metadata": {},
   "source": [
    "I would definitely want to perform a regression analysis to see exactly how much differences in income affect a tenant's ability to pay rent and by what percentage. I think a logistic regression might be a good starting point to see whether a tenant is able to pay all of their rent or not and how well this can be predicted, but I would also want to perform some additional analyses to understand to what degree they are not able to pay their rent. I would want to see the likelihood that a tenant would pay all of their rent based on income level, and then the likelihood they would pay 90%, 80% of rent, 50% of rent or no rent at all. Based on the data in the two tables, this does not seem to require an overly complicated model, and I would most likely perform a linear regression to see the relationship between income and rent payment and the relationship between the two variables. "
   ]
  },
  {
   "cell_type": "markdown",
   "metadata": {},
   "source": [
    "As far as data that might be able to predict ability to pay rent, there is a host of data that could potentially provide insight. Debt load, credit score, previous evictions, employment status, perhaps education level, and number of children in the residence could all affect whether a tenant can pay rent or partial rent. \n",
    "\n",
    "Some of this information is most likely provided to the landlord when applying to rent the apartment, such as who will be living in the apartment, credit score, employment status and employer. Additionally many landlords conduct background checks on potential tenants which could reveal information regarding previous evictions. Although a credit score does not accurately capture all debt someone might hold (and is frequently affected by actions such as paying off student loans), it is a good approximation for someone's total debt and history of making on time payments so this is data I would probably examine first. "
   ]
  }
 ],
 "metadata": {
  "kernelspec": {
   "display_name": "Python 3",
   "language": "python",
   "name": "python3"
  },
  "language_info": {
   "codemirror_mode": {
    "name": "ipython",
    "version": 3
   },
   "file_extension": ".py",
   "mimetype": "text/x-python",
   "name": "python",
   "nbconvert_exporter": "python",
   "pygments_lexer": "ipython3",
   "version": "3.7.6"
  }
 },
 "nbformat": 4,
 "nbformat_minor": 4
}
